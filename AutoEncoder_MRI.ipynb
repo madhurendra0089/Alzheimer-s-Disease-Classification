{
  "nbformat": 4,
  "nbformat_minor": 0,
  "metadata": {
    "colab": {
      "provenance": [],
      "machine_shape": "hm",
      "gpuType": "T4",
      "authorship_tag": "ABX9TyOxVtUrQuks2s/EVSCuoX5x",
      "include_colab_link": true
    },
    "kernelspec": {
      "name": "python3",
      "display_name": "Python 3"
    },
    "language_info": {
      "name": "python"
    },
    "accelerator": "GPU"
  },
  "cells": [
    {
      "cell_type": "markdown",
      "metadata": {
        "id": "view-in-github",
        "colab_type": "text"
      },
      "source": [
        "<a href=\"https://colab.research.google.com/github/madhurendra0089/Assignment/blob/main/AutoEncoder_MRI.ipynb\" target=\"_parent\"><img src=\"https://colab.research.google.com/assets/colab-badge.svg\" alt=\"Open In Colab\"/></a>"
      ]
    },
    {
      "cell_type": "code",
      "source": [
        "import os\n",
        "import glob\n",
        "import random\n",
        "import numpy as np\n",
        "import nibabel as nib\n",
        "from scipy.ndimage import zoom\n",
        "import matplotlib.pyplot as plt\n",
        "from tensorflow import keras\n",
        "from keras import layers, models\n",
        "from keras.preprocessing.image import ImageDataGenerator\n",
        "from keras.layers import Input, Dropout, Conv3D, UpSampling3D, MaxPooling3D, Flatten, Dense, AveragePooling3D, BatchNormalization, Activation, Add, Reshape, UpSampling3D, Conv3DTranspose, Concatenate\n",
        "from keras.models import Model\n",
        "from keras.utils import plot_model\n",
        "from keras.api._v2.keras import activations\n",
        "import tensorflow as tf\n",
        "from sklearn.model_selection import train_test_split\n",
        "from sklearn.metrics import confusion_matrix, accuracy_score, precision_score, recall_score, f1_score, roc_curve, roc_auc_score\n",
        "from google.colab import drive\n",
        "drive.mount('/content/drive')"
      ],
      "metadata": {
        "colab": {
          "base_uri": "https://localhost:8080/"
        },
        "id": "mYAOwaFmQp9-",
        "outputId": "975bd294-7448-4bf7-ca22-9ef3be1ee644"
      },
      "execution_count": null,
      "outputs": [
        {
          "output_type": "stream",
          "name": "stdout",
          "text": [
            "Drive already mounted at /content/drive; to attempt to forcibly remount, call drive.mount(\"/content/drive\", force_remount=True).\n"
          ]
        }
      ]
    },
    {
      "cell_type": "code",
      "source": [
        "# Load the preprocessed data\n",
        "path = \"/content/drive/MyDrive/MRI_ED/\"\n",
        "\n",
        "x_train = np.load(path+'x_train.npy')\n",
        "x_test  = np.load(path+'x_test.npy')\n",
        "x_val   = np.load(path+'x_val.npy')\n",
        "\n",
        "y_train = np.load(path+'y_train.npy')\n",
        "y_test  = np.load(path+'y_test.npy')\n",
        "y_val   = np.load(path+'y_val.npy')\n",
        "\n",
        "# Slicing Data->shuffle->batch->prefetch\n",
        "batch_size=10\n",
        "train_dataset = tf.data.Dataset.from_tensor_slices((x_train, y_train,)).shuffle(len(x_train)).batch(batch_size).prefetch(2)\n",
        "validation_dataset = tf.data.Dataset.from_tensor_slices((x_val, y_val,)).shuffle(len(x_val)).batch(batch_size).prefetch(2)\n",
        "test_dataset = tf.data.Dataset.from_tensor_slices((x_test, y_test)).batch(1)\n",
        "\n",
        "print(\"#x_train:\" + str(x_train.shape)+\" #y_train:\" +str(y_train.shape)+\" #x_val:\"+ str(x_val.shape)+\" #y_val:\"+ str(y_val.shape)+\" #x_test:\"+str(x_test.shape)+\" #y_test:\"+ str(y_test.shape))"
      ],
      "metadata": {
        "colab": {
          "base_uri": "https://localhost:8080/"
        },
        "id": "SEKMjmIbQp6a",
        "outputId": "ca179cf6-afd7-4826-f66e-9afdfdecb626"
      },
      "execution_count": null,
      "outputs": [
        {
          "output_type": "stream",
          "name": "stdout",
          "text": [
            "#x_train:(407, 128, 128, 64) #y_train:(407,) #x_val:(100, 128, 128, 64) #y_val:(100,) #x_test:(142, 128, 128, 64) #y_test:(142,)\n"
          ]
        }
      ]
    },
    {
      "cell_type": "markdown",
      "source": [
        "# **Model**"
      ],
      "metadata": {
        "id": "4EacH2UHXe16"
      }
    },
    {
      "cell_type": "code",
      "execution_count": null,
      "metadata": {
        "colab": {
          "base_uri": "https://localhost:8080/"
        },
        "id": "VAu_WIPjPe0r",
        "outputId": "67e4671d-c5a2-437f-dfd4-47e58861a00f"
      },
      "outputs": [
        {
          "output_type": "stream",
          "name": "stdout",
          "text": [
            "Model: \"model_2\"\n",
            "_________________________________________________________________\n",
            " Layer (type)                Output Shape              Param #   \n",
            "=================================================================\n",
            " input_1 (InputLayer)        [(None, 128, 128, 64, 1   0         \n",
            "                             )]                                  \n",
            "                                                                 \n",
            " conv3d (Conv3D)             (None, 128, 128, 64, 16   448       \n",
            "                             )                                   \n",
            "                                                                 \n",
            " batch_normalization (Batch  (None, 128, 128, 64, 16   64        \n",
            " Normalization)              )                                   \n",
            "                                                                 \n",
            " max_pooling3d (MaxPooling3  (None, 64, 64, 32, 16)    0         \n",
            " D)                                                              \n",
            "                                                                 \n",
            " conv3d_1 (Conv3D)           (None, 64, 64, 32, 32)    13856     \n",
            "                                                                 \n",
            " batch_normalization_1 (Bat  (None, 64, 64, 32, 32)    128       \n",
            " chNormalization)                                                \n",
            "                                                                 \n",
            " max_pooling3d_1 (MaxPoolin  (None, 32, 32, 16, 32)    0         \n",
            " g3D)                                                            \n",
            "                                                                 \n",
            " conv3d_2 (Conv3D)           (None, 32, 32, 16, 64)    16448     \n",
            "                                                                 \n",
            " batch_normalization_2 (Bat  (None, 32, 32, 16, 64)    256       \n",
            " chNormalization)                                                \n",
            "                                                                 \n",
            " max_pooling3d_2 (MaxPoolin  (None, 16, 16, 8, 64)     0         \n",
            " g3D)                                                            \n",
            "                                                                 \n",
            " conv3d_transpose (Conv3DTr  (None, 16, 16, 8, 64)     110656    \n",
            " anspose)                                                        \n",
            "                                                                 \n",
            " batch_normalization_3 (Bat  (None, 16, 16, 8, 64)     256       \n",
            " chNormalization)                                                \n",
            "                                                                 \n",
            " up_sampling3d (UpSampling3  (None, 32, 32, 16, 64)    0         \n",
            " D)                                                              \n",
            "                                                                 \n",
            " conv3d_transpose_1 (Conv3D  (None, 32, 32, 16, 32)    55328     \n",
            " Transpose)                                                      \n",
            "                                                                 \n",
            " batch_normalization_4 (Bat  (None, 32, 32, 16, 32)    128       \n",
            " chNormalization)                                                \n",
            "                                                                 \n",
            " up_sampling3d_1 (UpSamplin  (None, 64, 64, 32, 32)    0         \n",
            " g3D)                                                            \n",
            "                                                                 \n",
            " conv3d_transpose_2 (Conv3D  (None, 64, 64, 32, 16)    13840     \n",
            " Transpose)                                                      \n",
            "                                                                 \n",
            " batch_normalization_5 (Bat  (None, 64, 64, 32, 16)    64        \n",
            " chNormalization)                                                \n",
            "                                                                 \n",
            " up_sampling3d_2 (UpSamplin  (None, 128, 128, 64, 16   0         \n",
            " g3D)                        )                                   \n",
            "                                                                 \n",
            " conv3d_3 (Conv3D)           (None, 128, 128, 64, 1)   433       \n",
            "                                                                 \n",
            "=================================================================\n",
            "Total params: 211905 (827.75 KB)\n",
            "Trainable params: 211457 (826.00 KB)\n",
            "Non-trainable params: 448 (1.75 KB)\n",
            "_________________________________________________________________\n",
            "Epoch 1/10\n",
            "41/41 [==============================] - 56s 1s/step - loss: 0.2569 - val_loss: 0.2509\n",
            "Epoch 2/10\n",
            "41/41 [==============================] - 42s 1s/step - loss: 0.2506 - val_loss: 0.2507\n",
            "Epoch 3/10\n",
            "41/41 [==============================] - 42s 1s/step - loss: 0.2504 - val_loss: 0.2507\n",
            "Epoch 4/10\n",
            "41/41 [==============================] - 42s 1s/step - loss: 0.2503 - val_loss: 0.2508\n",
            "Epoch 5/10\n",
            "41/41 [==============================] - 42s 1s/step - loss: 0.2502 - val_loss: 0.2509\n",
            "Epoch 6/10\n",
            "41/41 [==============================] - 42s 1s/step - loss: 0.2502 - val_loss: 0.2509\n",
            "Epoch 7/10\n",
            "41/41 [==============================] - 42s 1s/step - loss: 0.2501 - val_loss: 0.2508\n",
            "Epoch 8/10\n",
            "41/41 [==============================] - 42s 1s/step - loss: 0.2501 - val_loss: 0.2504\n",
            "Epoch 9/10\n",
            "41/41 [==============================] - 42s 1s/step - loss: 0.2501 - val_loss: 0.2505\n",
            "Epoch 10/10\n",
            "41/41 [==============================] - 42s 1s/step - loss: 0.2501 - val_loss: 0.2504\n"
          ]
        },
        {
          "output_type": "execute_result",
          "data": {
            "text/plain": [
              "<keras.src.callbacks.History at 0x7d8da80fe8f0>"
            ]
          },
          "metadata": {},
          "execution_count": 7
        }
      ],
      "source": [
        "# 3D autoencoder\n",
        "\n",
        "num_classes = 1\n",
        "input_img = Input(shape=(128, 128, 64, 1))\n",
        "\n",
        "# Encoder\n",
        "x = Conv3D(16, 3, activation='relu', padding='same')(input_img)\n",
        "x = BatchNormalization()(x)\n",
        "x = MaxPooling3D(2)(x)\n",
        "\n",
        "x = Conv3D(32, 3, activation='relu', padding='same')(x)\n",
        "x = BatchNormalization()(x)\n",
        "x = MaxPooling3D(2)(x)\n",
        "\n",
        "x = Conv3D(64, 2, activation='relu', padding='same')(x)\n",
        "x = BatchNormalization()(x)\n",
        "encoded = MaxPooling3D(2)(x)\n",
        "\n",
        "# Decoder\n",
        "x = Conv3DTranspose(64, 3, activation='relu', padding='same')(encoded)\n",
        "x = BatchNormalization()(x)\n",
        "x = UpSampling3D(2)(x)\n",
        "\n",
        "x = Conv3DTranspose(32, 3, activation='relu', padding='same')(x)\n",
        "x = BatchNormalization()(x)\n",
        "x = UpSampling3D(2)(x)\n",
        "\n",
        "x = Conv3DTranspose(16, 3, activation='relu', padding='same')(x)\n",
        "x = BatchNormalization()(x)\n",
        "x = UpSampling3D(2)(x)\n",
        "\n",
        "decoded = Conv3D(1, 3, activation='sigmoid', padding='same')(x)\n",
        "\n",
        "autoencoder = Model(input_img, decoded)\n",
        "autoencoder.compile(optimizer='adam', loss='mean_squared_error')\n",
        "autoencoder.summary()\n",
        "\n",
        "# Train autoencoder\n",
        "autoencoder.fit(train_dataset, epochs=10, batch_size=32, validation_data=validation_dataset)\n"
      ]
    },
    {
      "cell_type": "code",
      "source": [
        "# Load\n",
        "autoencoder = tf.keras.models.load_model(path+\"my_autoencoder\")\n",
        "\n",
        "\n",
        "# Extract encoder\n",
        "encoder = Model(inputs=autoencoder.input, outputs=autoencoder.get_layer('max_pooling3d_2').output)\n",
        "\n",
        "# binary classification model using the extracted encoder\n",
        "encoder_output = encoder.output\n",
        "flattened = Flatten()(encoder_output)\n",
        "x = Dropout(0.5)(flattened)\n",
        "x = Dense(64, activation='relu')(x)\n",
        "output = Dense(1, activation='sigmoid')(x)\n",
        "\n",
        "classification_model = Model(inputs=autoencoder.input, outputs=output)\n",
        "classification_model.compile(optimizer='adam', loss='binary_crossentropy', metrics=['accuracy'])\n",
        "classification_model.summary()\n",
        "\n",
        "# Train binary classification model\n",
        "classification_model.fit(x_train, y_train, epochs=50, batch_size=10, validation_data=(x_val, y_val))\n"
      ],
      "metadata": {
        "colab": {
          "base_uri": "https://localhost:8080/"
        },
        "id": "AQfy1ltlJDig",
        "outputId": "cb095b70-0e35-4315-d8b4-5f557d0bf359"
      },
      "execution_count": null,
      "outputs": [
        {
          "output_type": "stream",
          "name": "stdout",
          "text": [
            "Model: \"model_1\"\n",
            "_________________________________________________________________\n",
            " Layer (type)                Output Shape              Param #   \n",
            "=================================================================\n",
            " input_1 (InputLayer)        [(None, 128, 128, 64, 1   0         \n",
            "                             )]                                  \n",
            "                                                                 \n",
            " conv3d (Conv3D)             (None, 128, 128, 64, 16   448       \n",
            "                             )                                   \n",
            "                                                                 \n",
            " batch_normalization (Batch  (None, 128, 128, 64, 16   64        \n",
            " Normalization)              )                                   \n",
            "                                                                 \n",
            " max_pooling3d (MaxPooling3  (None, 64, 64, 32, 16)    0         \n",
            " D)                                                              \n",
            "                                                                 \n",
            " conv3d_1 (Conv3D)           (None, 64, 64, 32, 32)    13856     \n",
            "                                                                 \n",
            " batch_normalization_1 (Bat  (None, 64, 64, 32, 32)    128       \n",
            " chNormalization)                                                \n",
            "                                                                 \n",
            " max_pooling3d_1 (MaxPoolin  (None, 32, 32, 16, 32)    0         \n",
            " g3D)                                                            \n",
            "                                                                 \n",
            " conv3d_2 (Conv3D)           (None, 32, 32, 16, 64)    16448     \n",
            "                                                                 \n",
            " batch_normalization_2 (Bat  (None, 32, 32, 16, 64)    256       \n",
            " chNormalization)                                                \n",
            "                                                                 \n",
            " max_pooling3d_2 (MaxPoolin  (None, 16, 16, 8, 64)     0         \n",
            " g3D)                                                            \n",
            "                                                                 \n",
            " flatten (Flatten)           (None, 131072)            0         \n",
            "                                                                 \n",
            " dropout (Dropout)           (None, 131072)            0         \n",
            "                                                                 \n",
            " dense (Dense)               (None, 64)                8388672   \n",
            "                                                                 \n",
            " dense_1 (Dense)             (None, 1)                 65        \n",
            "                                                                 \n",
            "=================================================================\n",
            "Total params: 8419937 (32.12 MB)\n",
            "Trainable params: 8419713 (32.12 MB)\n",
            "Non-trainable params: 224 (896.00 Byte)\n",
            "_________________________________________________________________\n",
            "Epoch 1/50\n",
            "41/41 [==============================] - 25s 403ms/step - loss: 5.7145 - accuracy: 0.5528 - val_loss: 1.7876 - val_accuracy: 0.5600\n",
            "Epoch 2/50\n",
            "41/41 [==============================] - 12s 283ms/step - loss: 1.0030 - accuracy: 0.6683 - val_loss: 0.9852 - val_accuracy: 0.5300\n",
            "Epoch 3/50\n",
            "41/41 [==============================] - 11s 280ms/step - loss: 0.8968 - accuracy: 0.7273 - val_loss: 2.5689 - val_accuracy: 0.5100\n",
            "Epoch 4/50\n",
            "41/41 [==============================] - 11s 278ms/step - loss: 0.4586 - accuracy: 0.8108 - val_loss: 1.2006 - val_accuracy: 0.4600\n",
            "Epoch 5/50\n",
            "41/41 [==============================] - 11s 276ms/step - loss: 0.4206 - accuracy: 0.8403 - val_loss: 1.0703 - val_accuracy: 0.4900\n",
            "Epoch 6/50\n",
            "41/41 [==============================] - 11s 276ms/step - loss: 0.8109 - accuracy: 0.7813 - val_loss: 1.9720 - val_accuracy: 0.5300\n",
            "Epoch 7/50\n",
            "41/41 [==============================] - 11s 278ms/step - loss: 0.6699 - accuracy: 0.7887 - val_loss: 1.1568 - val_accuracy: 0.6500\n",
            "Epoch 8/50\n",
            "41/41 [==============================] - 11s 278ms/step - loss: 0.3081 - accuracy: 0.8870 - val_loss: 1.2041 - val_accuracy: 0.6200\n",
            "Epoch 9/50\n",
            "41/41 [==============================] - 11s 279ms/step - loss: 0.2797 - accuracy: 0.8919 - val_loss: 1.4299 - val_accuracy: 0.4900\n",
            "Epoch 10/50\n",
            "41/41 [==============================] - 11s 279ms/step - loss: 0.4496 - accuracy: 0.8305 - val_loss: 4.1729 - val_accuracy: 0.5100\n",
            "Epoch 11/50\n",
            "41/41 [==============================] - 11s 278ms/step - loss: 0.3405 - accuracy: 0.8845 - val_loss: 4.1270 - val_accuracy: 0.5100\n",
            "Epoch 12/50\n",
            "41/41 [==============================] - 11s 278ms/step - loss: 0.2388 - accuracy: 0.9066 - val_loss: 2.5342 - val_accuracy: 0.7100\n",
            "Epoch 13/50\n",
            "41/41 [==============================] - 11s 278ms/step - loss: 0.3048 - accuracy: 0.8821 - val_loss: 1.3495 - val_accuracy: 0.6400\n",
            "Epoch 14/50\n",
            "41/41 [==============================] - 11s 277ms/step - loss: 0.3185 - accuracy: 0.8993 - val_loss: 1.9376 - val_accuracy: 0.4700\n",
            "Epoch 15/50\n",
            "41/41 [==============================] - 11s 277ms/step - loss: 0.3125 - accuracy: 0.8747 - val_loss: 1.9390 - val_accuracy: 0.3800\n",
            "Epoch 16/50\n",
            "41/41 [==============================] - 11s 277ms/step - loss: 0.2243 - accuracy: 0.9140 - val_loss: 5.3386 - val_accuracy: 0.5200\n",
            "Epoch 17/50\n",
            "41/41 [==============================] - 11s 278ms/step - loss: 0.1121 - accuracy: 0.9656 - val_loss: 3.6567 - val_accuracy: 0.5700\n",
            "Epoch 18/50\n",
            "41/41 [==============================] - 11s 277ms/step - loss: 0.0837 - accuracy: 0.9705 - val_loss: 3.1408 - val_accuracy: 0.5800\n",
            "Epoch 19/50\n",
            "41/41 [==============================] - 11s 278ms/step - loss: 0.0918 - accuracy: 0.9705 - val_loss: 1.8623 - val_accuracy: 0.5300\n",
            "Epoch 20/50\n",
            "41/41 [==============================] - 11s 277ms/step - loss: 0.1420 - accuracy: 0.9509 - val_loss: 2.1237 - val_accuracy: 0.5000\n",
            "Epoch 21/50\n",
            "41/41 [==============================] - 11s 278ms/step - loss: 0.0457 - accuracy: 0.9902 - val_loss: 1.8304 - val_accuracy: 0.5300\n",
            "Epoch 22/50\n",
            "41/41 [==============================] - 11s 278ms/step - loss: 0.0224 - accuracy: 0.9926 - val_loss: 3.8215 - val_accuracy: 0.5400\n",
            "Epoch 23/50\n",
            "41/41 [==============================] - 11s 278ms/step - loss: 0.0324 - accuracy: 0.9877 - val_loss: 2.0872 - val_accuracy: 0.4900\n",
            "Epoch 24/50\n",
            "41/41 [==============================] - 11s 278ms/step - loss: 0.0360 - accuracy: 0.9853 - val_loss: 3.5009 - val_accuracy: 0.4900\n",
            "Epoch 25/50\n",
            "41/41 [==============================] - 11s 278ms/step - loss: 0.0681 - accuracy: 0.9730 - val_loss: 2.0993 - val_accuracy: 0.5300\n",
            "Epoch 26/50\n",
            "41/41 [==============================] - 11s 278ms/step - loss: 0.0222 - accuracy: 0.9926 - val_loss: 5.4067 - val_accuracy: 0.5500\n",
            "Epoch 27/50\n",
            "41/41 [==============================] - 11s 278ms/step - loss: 0.0207 - accuracy: 0.9951 - val_loss: 2.5944 - val_accuracy: 0.6600\n",
            "Epoch 28/50\n",
            "41/41 [==============================] - 11s 277ms/step - loss: 0.0169 - accuracy: 0.9926 - val_loss: 3.4989 - val_accuracy: 0.4500\n",
            "Epoch 29/50\n",
            "41/41 [==============================] - 11s 277ms/step - loss: 0.1049 - accuracy: 0.9582 - val_loss: 2.8375 - val_accuracy: 0.7000\n",
            "Epoch 30/50\n",
            "41/41 [==============================] - 11s 277ms/step - loss: 0.0266 - accuracy: 0.9951 - val_loss: 2.4308 - val_accuracy: 0.6900\n",
            "Epoch 31/50\n",
            "41/41 [==============================] - 11s 278ms/step - loss: 0.0883 - accuracy: 0.9631 - val_loss: 4.0078 - val_accuracy: 0.4700\n",
            "Epoch 32/50\n",
            "41/41 [==============================] - 11s 277ms/step - loss: 0.1900 - accuracy: 0.9361 - val_loss: 9.4708 - val_accuracy: 0.5100\n",
            "Epoch 33/50\n",
            "41/41 [==============================] - 11s 278ms/step - loss: 0.1295 - accuracy: 0.9533 - val_loss: 8.4728 - val_accuracy: 0.5000\n",
            "Epoch 34/50\n",
            "41/41 [==============================] - 11s 277ms/step - loss: 0.4203 - accuracy: 0.8821 - val_loss: 4.5364 - val_accuracy: 0.4700\n",
            "Epoch 35/50\n",
            "41/41 [==============================] - 11s 278ms/step - loss: 0.1240 - accuracy: 0.9631 - val_loss: 3.2801 - val_accuracy: 0.4700\n",
            "Epoch 36/50\n",
            "41/41 [==============================] - 11s 277ms/step - loss: 0.0589 - accuracy: 0.9779 - val_loss: 6.2626 - val_accuracy: 0.5000\n",
            "Epoch 37/50\n",
            "41/41 [==============================] - 11s 277ms/step - loss: 0.0350 - accuracy: 0.9877 - val_loss: 6.9082 - val_accuracy: 0.5400\n",
            "Epoch 38/50\n",
            "41/41 [==============================] - 11s 278ms/step - loss: 0.0943 - accuracy: 0.9656 - val_loss: 4.9267 - val_accuracy: 0.4400\n",
            "Epoch 39/50\n",
            "41/41 [==============================] - 11s 277ms/step - loss: 0.1179 - accuracy: 0.9631 - val_loss: 3.1737 - val_accuracy: 0.6500\n",
            "Epoch 40/50\n",
            "41/41 [==============================] - 11s 278ms/step - loss: 0.0452 - accuracy: 0.9803 - val_loss: 2.2458 - val_accuracy: 0.5200\n",
            "Epoch 41/50\n",
            "41/41 [==============================] - 11s 278ms/step - loss: 0.0490 - accuracy: 0.9828 - val_loss: 2.7466 - val_accuracy: 0.6400\n",
            "Epoch 42/50\n",
            "41/41 [==============================] - 11s 278ms/step - loss: 0.0308 - accuracy: 0.9926 - val_loss: 3.9445 - val_accuracy: 0.5900\n",
            "Epoch 43/50\n",
            "41/41 [==============================] - 11s 277ms/step - loss: 0.0355 - accuracy: 0.9877 - val_loss: 2.1209 - val_accuracy: 0.5300\n",
            "Epoch 44/50\n",
            "41/41 [==============================] - 11s 277ms/step - loss: 0.0357 - accuracy: 0.9803 - val_loss: 2.2095 - val_accuracy: 0.6700\n",
            "Epoch 45/50\n",
            "41/41 [==============================] - 11s 277ms/step - loss: 0.0570 - accuracy: 0.9853 - val_loss: 2.4068 - val_accuracy: 0.5900\n",
            "Epoch 46/50\n",
            "41/41 [==============================] - 11s 277ms/step - loss: 0.0095 - accuracy: 0.9951 - val_loss: 3.8088 - val_accuracy: 0.4600\n",
            "Epoch 47/50\n",
            "41/41 [==============================] - 11s 277ms/step - loss: 0.0165 - accuracy: 0.9951 - val_loss: 2.4773 - val_accuracy: 0.5700\n",
            "Epoch 48/50\n",
            "41/41 [==============================] - 11s 277ms/step - loss: 0.0161 - accuracy: 0.9951 - val_loss: 2.9009 - val_accuracy: 0.5400\n",
            "Epoch 49/50\n",
            "41/41 [==============================] - 11s 277ms/step - loss: 0.0052 - accuracy: 1.0000 - val_loss: 3.7801 - val_accuracy: 0.6000\n",
            "Epoch 50/50\n",
            "41/41 [==============================] - 11s 277ms/step - loss: 0.0054 - accuracy: 0.9975 - val_loss: 4.1239 - val_accuracy: 0.6400\n"
          ]
        },
        {
          "output_type": "execute_result",
          "data": {
            "text/plain": [
              "<keras.src.callbacks.History at 0x7d8dac590100>"
            ]
          },
          "metadata": {},
          "execution_count": 4
        }
      ]
    },
    {
      "cell_type": "code",
      "source": [
        "# Evaluating the model's performance\n",
        "def performance(y_pred):\n",
        "    print(\"Confusion Matrix:\")\n",
        "    print(confusion_matrix(y_test, y_pred))\n",
        "    print(\"Accuracy:\", accuracy_score(y_test, y_pred))\n",
        "    print(\"Precision:\", precision_score(y_test, y_pred))\n",
        "    print(\"Recall:\", recall_score(y_test, y_pred))\n",
        "    print(\"F1 Score:\", f1_score(y_test, y_pred))"
      ],
      "metadata": {
        "id": "JV5IoGvBfUmR"
      },
      "execution_count": null,
      "outputs": []
    },
    {
      "cell_type": "code",
      "source": [
        "y_pred = classification_model.predict(x_test)\n",
        "y_pred = [1 if num > 0.5 else 0 for num in y_pred]\n",
        "\n",
        "performance(y_pred)"
      ],
      "metadata": {
        "id": "hVfSd9X-vy3E",
        "colab": {
          "base_uri": "https://localhost:8080/"
        },
        "outputId": "67a57fb4-b039-4d39-f21a-fda91952bc38"
      },
      "execution_count": null,
      "outputs": [
        {
          "output_type": "stream",
          "name": "stdout",
          "text": [
            "5/5 [==============================] - 5s 535ms/step\n",
            "Confusion Matrix:\n",
            "[[68  3]\n",
            " [58 13]]\n",
            "Accuracy: 0.5704225352112676\n",
            "Precision: 0.8125\n",
            "Recall: 0.18309859154929578\n",
            "F1 Score: 0.2988505747126437\n"
          ]
        }
      ]
    }
  ]
}