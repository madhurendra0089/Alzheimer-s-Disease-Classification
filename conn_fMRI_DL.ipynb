{
  "cells": [
    {
      "cell_type": "markdown",
      "metadata": {
        "id": "view-in-github",
        "colab_type": "text"
      },
      "source": [
        "<a href=\"https://colab.research.google.com/github/madhurendra0089/Assignment/blob/main/conn_fMRI_DL.ipynb\" target=\"_parent\"><img src=\"https://colab.research.google.com/assets/colab-badge.svg\" alt=\"Open In Colab\"/></a>"
      ]
    },
    {
      "cell_type": "code",
      "execution_count": null,
      "metadata": {
        "id": "rn-yANe2T6YI"
      },
      "outputs": [],
      "source": [
        "import os\n",
        "import numpy as np\n",
        "import matplotlib.pyplot as plt\n",
        "import seaborn as sns\n",
        "from collections import Counter\n",
        "import pandas as pd\n",
        "\n",
        "from sklearn.model_selection import train_test_split, cross_val_score, cross_val_predict\n",
        "from sklearn.preprocessing import StandardScaler, MinMaxScaler\n",
        "from sklearn.metrics import confusion_matrix, accuracy_score, roc_curve, roc_auc_score, ConfusionMatrixDisplay, classification_report\n",
        "from sklearn.ensemble import VotingClassifier\n",
        "from sklearn.metrics import confusion_matrix, accuracy_score, precision_score, recall_score, f1_score, roc_curve, roc_auc_score, ConfusionMatrixDisplay\n",
        "from sklearn.neural_network import MLPClassifier\n",
        "from sklearn.linear_model import LogisticRegression\n",
        "\n",
        "import tensorflow as tf\n",
        "from tensorflow import keras\n",
        "from keras.losses import sparse_categorical_crossentropy\n",
        "from keras import layers, models\n",
        "from keras.models import Sequential\n",
        "from keras.layers import Conv2D, MaxPooling2D, Flatten, Dense, Dropout, BatchNormalization, UpSampling2D\n",
        "from keras.utils import to_categorical\n"
      ]
    },
    {
      "cell_type": "code",
      "source": [
        "from google.colab import drive\n",
        "drive.mount('/content/drive')\n",
        "# directory and path\n",
        "path = '/content/drive/MyDrive/alzheimer/connectivity_Measure_fMRI/'\n",
        "x =  np.load(path+'padded_connectivity_measure.npy')\n",
        "y =  np.load(path+'one_hot_fmri_labels.npy')\n",
        "\n",
        "# for CNN\n",
        "x_train, x_test, y_train, y_test = train_test_split(x, y, test_size=0.2, random_state=42, shuffle=True, stratify=y)\n",
        "Y_train =np.argmax(y_train, axis=1)\n",
        "Y_test =np.argmax(y_test, axis=1)\n",
        "\n",
        "# for MLP\n",
        "X_train = np.array([x.flatten() for x in x_train])\n",
        "X_test = np.array([x.flatten() for x in x_test])\n",
        "print(x_train.shape, x_test.shape, X_train.shape, X_test.shape,y_train.shape,Y_train.shape,y_test.shape, Y_test.shape)\n"
      ],
      "metadata": {
        "colab": {
          "base_uri": "https://localhost:8080/"
        },
        "id": "DkShu9iluVjV",
        "outputId": "035f73b3-ed6c-4019-9e7d-40bbd655fa8f"
      },
      "execution_count": null,
      "outputs": [
        {
          "output_type": "stream",
          "name": "stdout",
          "text": [
            "Drive already mounted at /content/drive; to attempt to forcibly remount, call drive.mount(\"/content/drive\", force_remount=True).\n",
            "(116, 40, 40) (30, 40, 40) (116, 1600) (30, 1600) (116, 3) (116,) (30, 3) (30,)\n"
          ]
        }
      ]
    },
    {
      "cell_type": "markdown",
      "source": [
        "# **CNN**"
      ],
      "metadata": {
        "id": "3CGpbidHDatu"
      }
    },
    {
      "cell_type": "code",
      "source": [
        "\n",
        "width, height, channels=40,40,1\n",
        "num_classes = 3\n",
        "epochs = 10\n",
        "batch_size = 5\n",
        "# CNN model\n",
        "cnn_model = Sequential()\n",
        "cnn_model.add(Conv2D(32, (3, 3), activation='relu', input_shape=(width, height, channels)))\n",
        "cnn_model.add(Conv2D(32, (3, 3), activation='relu', input_shape=(width, height, channels)))x\n",
        "cnn_model.add(BatchNormalization())\n",
        "cnn_model.add(MaxPooling2D((2, 2)))\n",
        "cnn_model.add(Conv2D(64, (3, 3), activation='relu'))\n",
        "cnn_model.add(Conv2D(64, (3, 3), activation='relu'))\n",
        "cnn_model.add(BatchNormalization())\n",
        "cnn_model.add(MaxPooling2D((2, 2)))\n",
        "cnn_model.add(Conv2D(128, (3, 3), activation='relu'))\n",
        "cnn_model.add(Conv2D(128, (3, 3), activation='relu'))\n",
        "cnn_model.add(BatchNormalization())\n",
        "cnn_model.add(Flatten())\n",
        "cnn_model.add(Dropout(0.5))\n",
        "cnn_model.add(Dense(128, activation='relu'))\n",
        "cnn_model.add(Dense(32, activation='relu'))\n",
        "cnn_model.add(Dense(num_classes, activation='softmax'))\n",
        "\n",
        "# Compile\n",
        "cnn_model.compile(optimizer='adam', loss='categorical_crossentropy', metrics=['accuracy'])\n",
        "cnn_model.summary()\n"
      ],
      "metadata": {
        "colab": {
          "base_uri": "https://localhost:8080/"
        },
        "id": "75P4YBan6y7X",
        "outputId": "43bf725d-c3b1-4601-9f97-2969837600ec"
      },
      "execution_count": null,
      "outputs": [
        {
          "output_type": "stream",
          "name": "stdout",
          "text": [
            "Model: \"sequential_2\"\n",
            "_________________________________________________________________\n",
            " Layer (type)                Output Shape              Param #   \n",
            "=================================================================\n",
            " conv2d_12 (Conv2D)          (None, 38, 38, 32)        320       \n",
            "                                                                 \n",
            " conv2d_13 (Conv2D)          (None, 36, 36, 32)        9248      \n",
            "                                                                 \n",
            " batch_normalization_6 (Bat  (None, 36, 36, 32)        128       \n",
            " chNormalization)                                                \n",
            "                                                                 \n",
            " max_pooling2d_4 (MaxPoolin  (None, 18, 18, 32)        0         \n",
            " g2D)                                                            \n",
            "                                                                 \n",
            " conv2d_14 (Conv2D)          (None, 16, 16, 64)        18496     \n",
            "                                                                 \n",
            " conv2d_15 (Conv2D)          (None, 14, 14, 64)        36928     \n",
            "                                                                 \n",
            " batch_normalization_7 (Bat  (None, 14, 14, 64)        256       \n",
            " chNormalization)                                                \n",
            "                                                                 \n",
            " max_pooling2d_5 (MaxPoolin  (None, 7, 7, 64)          0         \n",
            " g2D)                                                            \n",
            "                                                                 \n",
            " conv2d_16 (Conv2D)          (None, 5, 5, 128)         73856     \n",
            "                                                                 \n",
            " conv2d_17 (Conv2D)          (None, 3, 3, 128)         147584    \n",
            "                                                                 \n",
            " batch_normalization_8 (Bat  (None, 3, 3, 128)         512       \n",
            " chNormalization)                                                \n",
            "                                                                 \n",
            " flatten_2 (Flatten)         (None, 1152)              0         \n",
            "                                                                 \n",
            " dropout_2 (Dropout)         (None, 1152)              0         \n",
            "                                                                 \n",
            " dense_6 (Dense)             (None, 128)               147584    \n",
            "                                                                 \n",
            " dense_7 (Dense)             (None, 32)                4128      \n",
            "                                                                 \n",
            " dense_8 (Dense)             (None, 3)                 99        \n",
            "                                                                 \n",
            "=================================================================\n",
            "Total params: 439139 (1.68 MB)\n",
            "Trainable params: 438691 (1.67 MB)\n",
            "Non-trainable params: 448 (1.75 KB)\n",
            "_________________________________________________________________\n"
          ]
        }
      ]
    },
    {
      "cell_type": "code",
      "source": [
        "# Train\n",
        "cnn_model.fit(x_train, y_train, epochs=epochs, batch_size=batch_size, validation_split=0.2)\n",
        "CNN_class_prob=cnn_model.predict(x_test)\n",
        "y_pred = np.argmax(CNN_class_prob, axis=1)"
      ],
      "metadata": {
        "colab": {
          "base_uri": "https://localhost:8080/"
        },
        "id": "8LvELn5H16Ip",
        "outputId": "ccd88af7-f4fe-48ab-eaa9-9ebdf3d877ef"
      },
      "execution_count": null,
      "outputs": [
        {
          "output_type": "stream",
          "name": "stdout",
          "text": [
            "Epoch 1/10\n",
            "19/19 [==============================] - 3s 33ms/step - loss: 1.6957 - accuracy: 0.3804 - val_loss: 1.1703 - val_accuracy: 0.2917\n",
            "Epoch 2/10\n",
            "19/19 [==============================] - 0s 20ms/step - loss: 0.9783 - accuracy: 0.6196 - val_loss: 1.2529 - val_accuracy: 0.2917\n",
            "Epoch 3/10\n",
            "19/19 [==============================] - 0s 19ms/step - loss: 0.7216 - accuracy: 0.7283 - val_loss: 1.6257 - val_accuracy: 0.2917\n",
            "Epoch 4/10\n",
            "19/19 [==============================] - 0s 19ms/step - loss: 0.4415 - accuracy: 0.8804 - val_loss: 1.4693 - val_accuracy: 0.2917\n",
            "Epoch 5/10\n",
            "19/19 [==============================] - 0s 19ms/step - loss: 0.3179 - accuracy: 0.9130 - val_loss: 1.2515 - val_accuracy: 0.3750\n",
            "Epoch 6/10\n",
            "19/19 [==============================] - 0s 19ms/step - loss: 0.1352 - accuracy: 0.9783 - val_loss: 1.1930 - val_accuracy: 0.3750\n",
            "Epoch 7/10\n",
            "19/19 [==============================] - 0s 19ms/step - loss: 0.0543 - accuracy: 1.0000 - val_loss: 1.4972 - val_accuracy: 0.2917\n",
            "Epoch 8/10\n",
            "19/19 [==============================] - 0s 19ms/step - loss: 0.0187 - accuracy: 1.0000 - val_loss: 1.9301 - val_accuracy: 0.2917\n",
            "Epoch 9/10\n",
            "19/19 [==============================] - 0s 19ms/step - loss: 0.0201 - accuracy: 1.0000 - val_loss: 1.7007 - val_accuracy: 0.2917\n",
            "Epoch 10/10\n",
            "19/19 [==============================] - 0s 19ms/step - loss: 0.0067 - accuracy: 1.0000 - val_loss: 1.6426 - val_accuracy: 0.2500\n",
            "1/1 [==============================] - 0s 160ms/step\n"
          ]
        }
      ]
    },
    {
      "cell_type": "code",
      "source": [
        "def performance(y_test, y_pred):\n",
        "    # model's performance\n",
        "    print(\"Confusion Matrix:\")\n",
        "    cm = confusion_matrix(y_test, y_pred)\n",
        "    print(confusion_matrix(y_test, y_pred))\n",
        "    ConfusionMatrixDisplay(cm, display_labels=None).plot()\n",
        "\n",
        "    print(\"Accuracy:\", accuracy_score(y_test, y_pred))\n",
        "    print(\"Precision:\", precision_score(y_test, y_pred, average='macro',zero_division='warn'))\n",
        "    print(\"Recall:\", recall_score(y_test, y_pred, average='macro'))\n",
        "    print(\"F1 Score:\", f1_score(y_test, y_pred, average='macro'))"
      ],
      "metadata": {
        "id": "NA_13XgmJJ93"
      },
      "execution_count": null,
      "outputs": []
    },
    {
      "cell_type": "code",
      "source": [
        "performance(Y_test, y_pred)\n"
      ],
      "metadata": {
        "colab": {
          "base_uri": "https://localhost:8080/",
          "height": 649
        },
        "id": "fM3ATxCmIIbb",
        "outputId": "052573dd-e3aa-4fd2-9ec1-0ba1428bca41"
      },
      "execution_count": null,
      "outputs": [
        {
          "output_type": "stream",
          "name": "stdout",
          "text": [
            "Confusion Matrix:\n",
            "[[4 9 0]\n",
            " [3 6 0]\n",
            " [3 5 0]]\n",
            "Accuracy: 0.3333333333333333\n",
            "Precision: 0.2333333333333333\n",
            "Recall: 0.3247863247863248\n",
            "F1 Score: 0.2538730634682658\n"
          ]
        },
        {
          "output_type": "stream",
          "name": "stderr",
          "text": [
            "/usr/local/lib/python3.10/dist-packages/sklearn/metrics/_classification.py:1344: UndefinedMetricWarning: Precision is ill-defined and being set to 0.0 in labels with no predicted samples. Use `zero_division` parameter to control this behavior.\n",
            "  _warn_prf(average, modifier, msg_start, len(result))\n"
          ]
        },
        {
          "output_type": "display_data",
          "data": {
            "text/plain": [
              "<Figure size 640x480 with 2 Axes>"
            ],
            "image/png": "[encoded data removed]"
          },
          "metadata": {}
        }
      ]
    },
    {
      "cell_type": "markdown",
      "source": [
        "# **MLP**"
      ],
      "metadata": {
        "id": "2fN65fCS-GX_"
      }
    },
    {
      "cell_type": "code",
      "source": [
        "MLP = MLPClassifier(hidden_layer_sizes=(200, 100, 100, 75, 50, 20, 10), activation='relu', solver='adam', learning_rate_init=0.0001, max_iter=500, random_state=42)\n",
        "\n",
        "MLP.fit(X_train, y_train)\n",
        "Y_pred = np.argmax(MLP.predict(X_test), axis=1)\n",
        "performance(Y_pred, Y_test)"
      ],
      "metadata": {
        "colab": {
          "base_uri": "https://localhost:8080/",
          "height": 594
        },
        "id": "tvbNkwL5q0I0",
        "outputId": "4ba560d1-26f0-49e4-9d85-ab08c1990f86"
      },
      "execution_count": null,
      "outputs": [
        {
          "output_type": "stream",
          "name": "stdout",
          "text": [
            "Confusion Matrix:\n",
            "[[12  8  6]\n",
            " [ 1  1  0]\n",
            " [ 0  0  2]]\n",
            "Accuracy: 0.5\n",
            "Precision: 0.4280626780626781\n",
            "Recall: 0.6538461538461539\n",
            "F1 Score: 0.39906759906759914\n"
          ]
        },
        {
          "output_type": "display_data",
          "data": {
            "text/plain": [
              "<Figure size 640x480 with 2 Axes>"
            ],
            "image/png": "[encoded data removed]"
          },
          "metadata": {}
        }
      ]
    },
    {
      "cell_type": "markdown",
      "source": [
        "# **Ensemble-1**"
      ],
      "metadata": {
        "id": "6Dr26w_O-MHR"
      }
    },
    {
      "cell_type": "code",
      "source": [
        "MLP_class_probs = MLP.predict_proba(X_test)\n",
        "ensemble_pred = np.argmax((MLP_class_probs+CNN_class_prob)/2, axis=1)\n",
        "performance(ensemble_pred, Y_test)"
      ],
      "metadata": {
        "colab": {
          "base_uri": "https://localhost:8080/",
          "height": 594
        },
        "id": "95zE_kYgjRKL",
        "outputId": "546c90f0-109c-4383-8321-eb5e2772390b"
      },
      "execution_count": null,
      "outputs": [
        {
          "output_type": "stream",
          "name": "stdout",
          "text": [
            "Confusion Matrix:\n",
            "[[8 8 5]\n",
            " [5 1 1]\n",
            " [0 0 2]]\n",
            "Accuracy: 0.36666666666666664\n",
            "Precision: 0.3254985754985755\n",
            "Recall: 0.5079365079365079\n",
            "F1 Score: 0.3318627450980392\n"
          ]
        },
        {
          "output_type": "display_data",
          "data": {
            "text/plain": [
              "<Figure size 640x480 with 2 Axes>"
            ],
            "image/png": "[encoded data removed]"
          },
          "metadata": {}
        }
      ]
    },
    {
      "cell_type": "markdown",
      "source": [
        "# **Ensemble-2**"
      ],
      "metadata": {
        "id": "5OBDWaE4-ywm"
      }
    },
    {
      "cell_type": "code",
      "source": [
        "MLPT_class_probs = MLP.predict_proba(X_train)\n",
        "CNNT_class_prob=cnn_model.predict(x_train)\n",
        "\n",
        "# Concatenate features\n",
        "combined_features = np.concatenate((CNN_class_prob, MLP_class_probs), axis=1)\n",
        "combinedT_features = np.concatenate((CNNT_class_prob, MLPT_class_probs), axis=1)\n",
        "\n",
        "\n",
        "final_model = LogisticRegression()\n",
        "final_model.fit(combinedT_features, Y_train)\n",
        "LR_pred=final_model.predict(combined_features)\n",
        "performance(LR_pred, Y_test)"
      ],
      "metadata": {
        "colab": {
          "base_uri": "https://localhost:8080/",
          "height": 611
        },
        "id": "2SORGoE2h4Df",
        "outputId": "783ebac6-3928-4fe7-af85-cc6ea9d8e0d5"
      },
      "execution_count": null,
      "outputs": [
        {
          "output_type": "stream",
          "name": "stdout",
          "text": [
            "4/4 [==============================] - 0s 16ms/step\n",
            "Confusion Matrix:\n",
            "[[7 7 4]\n",
            " [4 1 0]\n",
            " [2 1 4]]\n",
            "Accuracy: 0.4\n",
            "Precision: 0.3831908831908832\n",
            "Recall: 0.3867724867724867\n",
            "F1 Score: 0.3759344598054275\n"
          ]
        },
        {
          "output_type": "display_data",
          "data": {
            "text/plain": [
              "<Figure size 640x480 with 2 Axes>"
            ],
            "image/png": "[encoded data removed]"
          },
          "metadata": {}
        }
      ]
    },
    {
      "cell_type": "code",
      "source": [],
      "metadata": {
        "id": "eqBFZ7Eh4pFG"
      },
      "execution_count": null,
      "outputs": []
    }
  ],
  "metadata": {
    "colab": {
      "machine_shape": "hm",
      "provenance": [],
      "authorship_tag": "ABX9TyNaCVQBGA4VmkKC2ywdoVA0",
      "include_colab_link": true
    },
    "kernelspec": {
      "display_name": "Python 3",
      "name": "python3"
    },
    "language_info": {
      "name": "python"
    }
  },
  "nbformat": 4,
  "nbformat_minor": 0
}