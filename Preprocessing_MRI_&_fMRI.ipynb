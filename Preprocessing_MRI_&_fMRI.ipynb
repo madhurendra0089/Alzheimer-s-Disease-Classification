{
  "nbformat": 4,
  "nbformat_minor": 0,
  "metadata": {
    "colab": {
      "provenance": [],
      "authorship_tag": "ABX9TyM7K4+AVYSvssL9Okby81yx",
      "include_colab_link": true
    },
    "kernelspec": {
      "name": "python3",
      "display_name": "Python 3"
    },
    "language_info": {
      "name": "python"
    }
  },
  "cells": [
    {
      "cell_type": "markdown",
      "metadata": {
        "id": "view-in-github",
        "colab_type": "text"
      },
      "source": [
        "<a href=\"https://colab.research.google.com/github/madhurendra0089/Alzheimer-s-Disease-Classification/blob/main/Preprocessing_MRI_%26_fMRI.ipynb\" target=\"_parent\"><img src=\"https://colab.research.google.com/assets/colab-badge.svg\" alt=\"Open In Colab\"/></a>"
      ]
    },
    {
      "cell_type": "markdown",
      "source": [
        "## 3D MRI Image"
      ],
      "metadata": {
        "id": "Bebcd4OlnzRM"
      }
    },
    {
      "cell_type": "code",
      "source": [
        "def process_scan(path):\n",
        "    \"\"\"Read and extract volume\"\"\"\n",
        "    img = nib.load(path)              # Get raw data\n",
        "    img = img.get_fdata()             #Extract Image Data\n",
        "\n",
        "    \"\"\"Normalize the volume\"\"\"\n",
        "    img = (img-np.min(img))/(np.max(img)-np.min(img))\n",
        "\n",
        "    return img\n",
        "\n",
        "\n",
        "def extract_features(image):\n",
        "    image = process_scan(image)\n",
        "    x=np.unique(image)\n",
        "    image = (image-x[0]/x[-1]-x[0])*255\n",
        "    # Calculate the intensity histogram of the image\n",
        "    histogram = np.histogram(image, bins=256)\n",
        "\n",
        "    # Return the intensity histogram as a feature vector\n",
        "    return histogram[0]\n",
        "\n",
        "def tunnel(_dir, n):\n",
        "\n",
        "    \"\"\"preprocess one folder\"\"\"\n",
        "    _list = [_dir+x+temporal_image for x in os.listdir(_dir)]\n",
        "    _image = np.array([extract_features(i) for i in _list])\n",
        "    _labels = np.array([n for _ in range(len(_list))])\n",
        "    return _image, _labels\n",
        "\n",
        "def bigger_tunnel():\n",
        "    \"\"\"preprocess parent folder\"\"\"\n",
        "\n",
        "    #Process each folder through tunnel function\n",
        "    ad_image, ad_labels   = tunnel(dir_AD, 1)\n",
        "    nc_image, nc_labels   = tunnel(dir_NC, 0)\n",
        "\n",
        "    #Concatenate to make complete set of train, test or validation\n",
        "    x = np.concatenate(( ad_image[:],  nc_image[:]),axis=0)\n",
        "    y = np.concatenate((ad_labels[:], nc_labels[:]), axis=0)\n",
        "\n",
        "    return x,y\n",
        "    #######################\n",
        "\n",
        "def tunnel():\n",
        "    \"\"\"preprocess parent folder\"\"\"\n",
        "\n",
        "    #Process each folder through tunnel function\n",
        "    ad_images   = [nib.load(dir_AD+x+temporal_image).get_fdata() for x in os.listdir(dir_AD)]\n",
        "    nc_images   = [nib.load(dir_NC+x+temporal_image).get_fdata() for x in os.listdir(dir_NC)]\n",
        "    mci_images  = [nib.load(dir_MCI+x+temporal_image).get_fdata() for x in os.listdir(dir_MCI)]\n",
        "    #Concatenate to make complete set of train, test or validation\n",
        "    x = np.concatenate(( ad_images[:],  nc_images[:], mci_images[:] ),axis=0)\n",
        "    #y = np.concatenate((ad_labels[:], nc_labels[:], mci_labels), axis=0)\n",
        "\n",
        "    return x\n",
        "\n",
        "x =tunnel()"
      ],
      "metadata": {
        "id": "_OGznnMOhY8X"
      },
      "execution_count": null,
      "outputs": []
    },
    {
      "cell_type": "markdown",
      "source": [
        "## Connectivity Measure Generation for fMRI Image\n"
      ],
      "metadata": {
        "id": "oKdjLXoxkZPC"
      }
    },
    {
      "cell_type": "code",
      "source": [
        "from nilearn import datasets, plotting, image, maskers\n",
        "from nilearn.connectome import ConnectivityMeasure\n",
        "import numpy as np\n",
        "\n",
        "# Step 1: Fetch atlas and plot\n",
        "msdl_atlas = datasets.fetch_atlas_msdl(data_dir=path)\n",
        "plotting.plot_prob_atlas(msdl_atlas.maps)\n",
        "\n",
        "# Step 2: Load the temporal image and extract time series\n",
        "temporal_image_path = path + 'AD/Sub_003/temporal_image.nii.gz'\n",
        "temporal_image = image.load_img(temporal_image_path)\n",
        "\n",
        "masker = maskers.NiftiMapsMasker(msdl_atlas.maps, resampling_target='data', detrend=True).fit()\n",
        "roi_time_series = masker.transform(temporal_image)\n",
        "\n",
        "# Step 3: Compute the connectivity matrix\n",
        "correlation_measure = ConnectivityMeasure(kind='correlation')\n",
        "correlation_matrix = correlation_measure.fit_transform([roi_time_series])[0]\n",
        "\n",
        "# Step 4: Zero out the diagonal\n",
        "np.fill_diagonal(correlation_matrix, 0)\n",
        "\n",
        "# Step 5: Visualize the correlation matrix\n",
        "plotting.plot_matrix(correlation_matrix, labels=msdl_atlas.labels, vmax=0.8, vmin=-0.8, colorbar=True)\n",
        "\n",
        "# Step 6: Flatten the lower triangular portion of the connectivity matrix into a 1D array\n",
        "lower_triangular_indices = np.tril_indices_from(correlation_matrix, k=-1)\n",
        "flattened_connectivity = correlation_matrix[lower_triangular_indices]\n",
        "\n",
        "# Step 7: Output the flattened and scaled data\n",
        "print(flattened_connectivity)\n"
      ],
      "metadata": {
        "id": "iFl7vWBXhZCc"
      },
      "execution_count": null,
      "outputs": []
    },
    {
      "cell_type": "markdown",
      "source": [
        "## Intensity Histogram for MRI Image"
      ],
      "metadata": {
        "id": "CRmlqRPZdmFE"
      }
    },
    {
      "cell_type": "code",
      "source": [
        "import numpy as np\n",
        "import matplotlib.pyplot as plt\n",
        "\n",
        "\n",
        "# Flatten the 3D MRI image into a 1D array\n",
        "flattened_image = mri_image.flatten()\n",
        "\n",
        "# Calculate the histogram for intensities from 0 to 255\n",
        "histogram, bin_edges = np.histogram(flattened_image, bins=np.arange(257), range=(0, 255))\n",
        "\n",
        "# Plot the histogram\n",
        "plt.figure(figsize=(10, 6))\n",
        "plt.bar(bin_edges[:-1], histogram, width=1, color='gray', alpha=0.7)\n",
        "plt.title(\"Intensity Histogram of 3D MRI Image\")\n",
        "plt.xlabel(\"Intensity Value\")\n",
        "plt.ylabel(\"Number of Pixels\")\n",
        "plt.grid(True)\n",
        "plt.show()\n"
      ],
      "metadata": {
        "id": "o89EzTT3v1E4"
      },
      "execution_count": null,
      "outputs": []
    }
  ]
}