{
  "cells": [
    {
      "cell_type": "markdown",
      "metadata": {
        "id": "view-in-github",
        "colab_type": "text"
      },
      "source": [
        "<a href=\"https://colab.research.google.com/github/madhurendra0089/Assignment/blob/main/MRI__Histogram.ipynb\" target=\"_parent\"><img src=\"https://colab.research.google.com/assets/colab-badge.svg\" alt=\"Open In Colab\"/></a>"
      ]
    },
    {
      "cell_type": "markdown",
      "source": [
        "## Library"
      ],
      "metadata": {
        "id": "B2wNjmWqPWih"
      },
      "id": "B2wNjmWqPWih"
    },
    {
      "cell_type": "code",
      "execution_count": null,
      "id": "d7085a8c",
      "metadata": {
        "id": "d7085a8c"
      },
      "outputs": [],
      "source": [
        "import os\n",
        "import glob\n",
        "import numpy as np\n",
        "import nibabel as nib\n",
        "from scipy import ndimage\n",
        "import matplotlib.pyplot as plt\n",
        "import xgboost as xgb\n",
        "from sklearn.preprocessing import StandardScaler\n",
        "from sklearn.ensemble import RandomForestClassifier, VotingClassifier\n",
        "from sklearn.neural_network import MLPClassifier\n",
        "from sklearn.svm import SVC\n",
        "from sklearn.decomposition import PCA\n",
        "from sklearn.model_selection import train_test_split, GridSearchCV, cross_val_score, RandomizedSearchCV\n",
        "from sklearn.linear_model import LogisticRegression\n",
        "from sklearn.tree import DecisionTreeClassifier\n",
        "from sklearn.metrics import confusion_matrix, accuracy_score, precision_score, recall_score, f1_score, roc_curve, roc_auc_score\n",
        "folderpath = \"/content/drive/MyDrive/DATASET/preprocessed data/histogram/\""
      ]
    },
    {
      "cell_type": "code",
      "source": [
        "from google.colab import drive\n",
        "drive.mount('/content/drive')"
      ],
      "metadata": {
        "colab": {
          "base_uri": "https://localhost:8080/"
        },
        "id": "SqrhrAyTNKZY",
        "outputId": "d50c85ee-57b9-4fa5-d868-63f313642924"
      },
      "id": "SqrhrAyTNKZY",
      "execution_count": null,
      "outputs": [
        {
          "output_type": "stream",
          "name": "stdout",
          "text": [
            "Mounted at /content/drive\n"
          ]
        }
      ]
    },
    {
      "cell_type": "markdown",
      "source": [
        "# Load Preprocessed Data\n",
        "(saved it earlier using numpy for convenience)"
      ],
      "metadata": {
        "id": "gKp8iiXbPdDn"
      },
      "id": "gKp8iiXbPdDn"
    },
    {
      "cell_type": "code",
      "source": [
        "folderpath = '/content/drive/MyDrive/MRI_ED/'\n",
        "'''x_train = np.load(folderpath+'x_train.npy')\n",
        "x_test = np.load(folderpath+'x_test.npy')\n",
        "x_val = np.load(folderpath+'x_val.npy')\n",
        "\n",
        "y_train = np.load(folderpath+'y_train.npy')\n",
        "y_test = np.load(folderpath+'y_test.npy')\n",
        "y_val = np.load(folderpath+'y_val.npy')\n",
        "\n",
        "print(\"#x_train:\" + str(len(x_train))+\" #y_train:\" +str(len(y_train))+\" #x_test:\"+str(len(x_test))+\" #y_test:\"+ str(len(y_test))+\" #x_val:\"+str(len(x_val))+\" #y_val:\"+ str(len(y_val)))"
      ],
      "metadata": {
        "colab": {
          "base_uri": "https://localhost:8080/"
        },
        "id": "5jaQx-dqn0a7",
        "outputId": "7296e237-cc23-455f-c41a-cc7ef26c0ef3"
      },
      "id": "5jaQx-dqn0a7",
      "execution_count": null,
      "outputs": [
        {
          "output_type": "stream",
          "name": "stdout",
          "text": [
            "#x_train:407 #y_train:407 #x_test:142 #y_test:142 #x_val:100 #y_val:100\n"
          ]
        }
      ]
    },
    {
      "cell_type": "code",
      "source": [
        "'''x = np.concatenate((np.concatenate((x_train, x_val)), x_test))\n",
        "x = np.array([i.flatten(order='C') for i in x])\n",
        "y = np.concatenate((np.concatenate((y_train, y_val)), y_test))\n",
        "print(x.shape, y.shape)"
      ],
      "metadata": {
        "id": "eJsorcGjYEic",
        "colab": {
          "base_uri": "https://localhost:8080/"
        },
        "outputId": "b33e9284-1b5d-4f43-f18e-b6461147ad78"
      },
      "id": "eJsorcGjYEic",
      "execution_count": null,
      "outputs": [
        {
          "output_type": "stream",
          "name": "stdout",
          "text": [
            "(649, 1048576) (649,)\n"
          ]
        }
      ]
    },
    {
      "cell_type": "code",
      "source": [
        "# PCA\n",
        "'''pca = PCA(n_components=0.99)\n",
        "x_pca = pca.fit_transform(x)\n",
        "\n",
        "x_train,x_test, y_train, y_test =train_test_split(x_pca, y, shuffle=True, test_size=0.2)\n",
        "print(x_pca.shape, x_train.shape, x_test.shape)\n"
      ],
      "metadata": {
        "colab": {
          "base_uri": "https://localhost:8080/"
        },
        "id": "PmSVliyypB0s",
        "outputId": "0e3778d7-0910-48e8-92b2-bd085fe7e30a"
      },
      "id": "PmSVliyypB0s",
      "execution_count": null,
      "outputs": [
        {
          "output_type": "stream",
          "name": "stdout",
          "text": [
            "(649, 532) (519, 532) (130, 532)\n"
          ]
        }
      ]
    },
    {
      "cell_type": "code",
      "source": [
        "x_train = np.load(folderpath+'pca_x_train.npy')\n",
        "x_test = np.load(folderpath+'pca_x_test.npy')"
      ],
      "metadata": {
        "id": "Ub0XQIU8YMaB"
      },
      "id": "Ub0XQIU8YMaB",
      "execution_count": null,
      "outputs": []
    },
    {
      "cell_type": "markdown",
      "source": [
        "# **Model Implementation**"
      ],
      "metadata": {
        "id": "yngnv1Xfvaio"
      },
      "id": "yngnv1Xfvaio"
    },
    {
      "cell_type": "code",
      "source": [
        "def performance(model):\n",
        "    y_pred = model.predict(x_test)\n",
        "\n",
        "    # model's performance\n",
        "    print(\"Confusion Matrix:\")\n",
        "    print(confusion_matrix(y_test, y_pred))\n",
        "\n",
        "    print(\"Accuracy:\", accuracy_score(y_test, y_pred))\n",
        "    print(\"Precision:\", precision_score(y_test, y_pred))\n",
        "    print(\"Recall:\", recall_score(y_test, y_pred))\n",
        "    print(\"F1 Score:\", f1_score(y_test, y_pred))"
      ],
      "metadata": {
        "id": "sUM9G9xr4IcE"
      },
      "id": "sUM9G9xr4IcE",
      "execution_count": null,
      "outputs": []
    },
    {
      "cell_type": "code",
      "execution_count": null,
      "id": "b1a3c902",
      "metadata": {
        "id": "b1a3c902",
        "colab": {
          "base_uri": "https://localhost:8080/"
        },
        "outputId": "1b52f751-70dc-4bcd-e195-786e5f04e23e"
      },
      "outputs": [
        {
          "output_type": "stream",
          "name": "stdout",
          "text": [
            "[0.82692308 0.72115385 0.77884615 0.77884615 0.81553398]\n",
            "Confusion Matrix:\n",
            "[[54 11]\n",
            " [ 9 56]]\n",
            "Accuracy: 0.8461538461538461\n",
            "Precision: 0.835820895522388\n",
            "Recall: 0.8615384615384616\n",
            "F1 Score: 0.8484848484848485\n"
          ]
        }
      ],
      "source": [
        "# LogisticRegression\n",
        "LR = LogisticRegression(max_iter=1000)\n",
        "LR_cv = cross_val_score(LR, x_train, y_train, scoring='accuracy', cv=5)\n",
        "print(LR_cv)\n",
        "LR.fit(x_train, y_train)\n",
        "performance(LR)"
      ]
    },
    {
      "cell_type": "code",
      "source": [
        "# Random forest classifier\n",
        "DT = DecisionTreeClassifier()\n",
        "DT_cv = cross_val_score(DT, x_train, y_train, scoring='accuracy', cv=5)\n",
        "print(DT_cv)\n",
        "DT.fit(x_train, y_train)\n",
        "performance(DT)"
      ],
      "metadata": {
        "colab": {
          "base_uri": "https://localhost:8080/"
        },
        "id": "hREw7eKt5QA_",
        "outputId": "f38e718f-6221-4925-bb5a-6fc6a49ce7da"
      },
      "id": "hREw7eKt5QA_",
      "execution_count": null,
      "outputs": [
        {
          "output_type": "stream",
          "name": "stdout",
          "text": [
            "[0.57692308 0.64423077 0.57692308 0.58653846 0.59223301]\n",
            "Confusion Matrix:\n",
            "[[32 33]\n",
            " [27 38]]\n",
            "Accuracy: 0.5384615384615384\n",
            "Precision: 0.5352112676056338\n",
            "Recall: 0.5846153846153846\n",
            "F1 Score: 0.5588235294117647\n"
          ]
        }
      ]
    },
    {
      "cell_type": "code",
      "execution_count": null,
      "id": "dbd0b41f",
      "metadata": {
        "id": "dbd0b41f",
        "colab": {
          "base_uri": "https://localhost:8080/"
        },
        "outputId": "6c081a60-7ddc-406d-9c83-f9c7d72eebb5"
      },
      "outputs": [
        {
          "output_type": "stream",
          "name": "stdout",
          "text": [
            "[0.64423077 0.58653846 0.625      0.57692308 0.60194175]\n",
            "Confusion Matrix:\n",
            "[[35 30]\n",
            " [12 53]]\n",
            "Accuracy: 0.676923076923077\n",
            "Precision: 0.6385542168674698\n",
            "Recall: 0.8153846153846154\n",
            "F1 Score: 0.7162162162162162\n"
          ]
        }
      ],
      "source": [
        "# Random forest classifier\n",
        "RF = RandomForestClassifier(n_estimators=200, max_depth=4)\n",
        "RF_cv = cross_val_score(RF, x_train, y_train, scoring='accuracy', cv=5)\n",
        "print(RF_cv)\n",
        "RF.fit(x_train, y_train)\n",
        "performance(RF)"
      ]
    },
    {
      "cell_type": "code",
      "source": [
        "# XGBoost classifier\n",
        "XGB = xgb.XGBClassifier(learning_rate=0.1, n_estimators=100, max_depth=3)\n",
        "XGB_cv = cross_val_score(XGB, x_train, y_train, scoring='accuracy', cv=5)\n",
        "print(XGB_cv)\n",
        "XGB.fit(x_train, y_train)\n",
        "performance(XGB)"
      ],
      "metadata": {
        "id": "Sa86O45Z2B_O",
        "colab": {
          "base_uri": "https://localhost:8080/"
        },
        "outputId": "2c94a363-bdd1-4c8e-eff3-ff3cd13e73ce"
      },
      "id": "Sa86O45Z2B_O",
      "execution_count": null,
      "outputs": [
        {
          "output_type": "stream",
          "name": "stdout",
          "text": [
            "[0.64423077 0.60576923 0.67307692 0.68269231 0.63106796]\n",
            "Confusion Matrix:\n",
            "[[41 24]\n",
            " [16 49]]\n",
            "Accuracy: 0.6923076923076923\n",
            "Precision: 0.6712328767123288\n",
            "Recall: 0.7538461538461538\n",
            "F1 Score: 0.7101449275362318\n"
          ]
        }
      ]
    },
    {
      "cell_type": "code",
      "source": [
        "mlp = MLPClassifier(max_iter=1000, random_state=42)\n",
        "\n",
        "param_grid = {\n",
        "    'hidden_layer_sizes': [(512,256, 64, 32), (512, 256, 128, 64)],\n",
        "    'activation': ['relu'],\n",
        "    'alpha': [0.00001,0.0001],\n",
        "}\n",
        "grid_search = GridSearchCV(mlp, param_grid, cv=3, n_jobs=-1, verbose=1)\n",
        "grid_search.fit(x_train, y_train)\n",
        "\n",
        "best_model = grid_search.best_estimator_\n",
        "print(f\"Best Hyperparameters: {best_model}\")\n",
        "\n",
        "performance(best_model)"
      ],
      "metadata": {
        "id": "sIH8EHwhhWXz",
        "colab": {
          "base_uri": "https://localhost:8080/"
        },
        "outputId": "11aead13-1269-438c-ee0f-05a37bf48f69"
      },
      "id": "sIH8EHwhhWXz",
      "execution_count": null,
      "outputs": [
        {
          "output_type": "stream",
          "name": "stdout",
          "text": [
            "Fitting 3 folds for each of 4 candidates, totalling 12 fits\n",
            "Best Hyperparameters: MLPClassifier(alpha=1e-05, hidden_layer_sizes=(512, 256, 64, 32), max_iter=1000,\n",
            "              random_state=42)\n",
            "Confusion Matrix:\n",
            "[[51 14]\n",
            " [10 55]]\n",
            "Accuracy: 0.8153846153846154\n",
            "Precision: 0.7971014492753623\n",
            "Recall: 0.8461538461538461\n",
            "F1 Score: 0.8208955223880597\n"
          ]
        }
      ]
    },
    {
      "cell_type": "code",
      "source": [
        "SVC_ = SVC()\n",
        "SVC_cv = cross_val_score(SVC_, x_train, y_train, scoring='accuracy', cv=5)\n",
        "print(SVC_cv)\n",
        "SVC_.fit(x_train, y_train)\n",
        "performance(SVC_)"
      ],
      "metadata": {
        "id": "CQCeepPh3DbV",
        "colab": {
          "base_uri": "https://localhost:8080/"
        },
        "outputId": "24704c47-9970-4e79-9db9-3b591dbc87b2"
      },
      "id": "CQCeepPh3DbV",
      "execution_count": null,
      "outputs": [
        {
          "output_type": "stream",
          "name": "stdout",
          "text": [
            "[0.75961538 0.72115385 0.75961538 0.71153846 0.7961165 ]\n",
            "Confusion Matrix:\n",
            "[[50 15]\n",
            " [11 54]]\n",
            "Accuracy: 0.8\n",
            "Precision: 0.782608695652174\n",
            "Recall: 0.8307692307692308\n",
            "F1 Score: 0.8059701492537313\n"
          ]
        }
      ]
    },
    {
      "cell_type": "markdown",
      "source": [
        "# **Ensemble**"
      ],
      "metadata": {
        "id": "O9e1z3Dd4eGc"
      },
      "id": "O9e1z3Dd4eGc"
    },
    {
      "cell_type": "markdown",
      "source": [
        "Paper"
      ],
      "metadata": {
        "id": "46FADObl6-Mp"
      },
      "id": "46FADObl6-Mp"
    },
    {
      "cell_type": "code",
      "source": [
        "\n",
        "# Create individual models\n",
        "model1 = DT\n",
        "model2 = SVC_\n",
        "model3 = XGB\n",
        "\n",
        "# Create an ensemble model using a VotingClassifier\n",
        "ensemble_model = VotingClassifier(estimators=[('model1', model1), ('model2', model2), ('model3', model3)], voting='hard')\n",
        "\n",
        "# Train the ensemble model\n",
        "ensemble_model.fit(x_train, y_train)\n",
        "\n",
        "performance(ensemble_model)\n"
      ],
      "metadata": {
        "colab": {
          "base_uri": "https://localhost:8080/"
        },
        "id": "XwXgsvdf5nKC",
        "outputId": "cf0fa2d1-0d75-4f09-ba6c-520de0ec7a61"
      },
      "id": "XwXgsvdf5nKC",
      "execution_count": null,
      "outputs": [
        {
          "output_type": "stream",
          "name": "stdout",
          "text": [
            "Confusion Matrix:\n",
            "[[44 21]\n",
            " [12 53]]\n",
            "Accuracy: 0.7461538461538462\n",
            "Precision: 0.7162162162162162\n",
            "Recall: 0.8153846153846154\n",
            "F1 Score: 0.762589928057554\n"
          ]
        }
      ]
    },
    {
      "cell_type": "markdown",
      "source": [
        "Mine"
      ],
      "metadata": {
        "id": "GZ3OLLO07BXl"
      },
      "id": "GZ3OLLO07BXl"
    },
    {
      "cell_type": "code",
      "source": [
        "\n",
        "# Create individual models\n",
        "model1 = LR\n",
        "model2 = SVC_\n",
        "model3 = XGB\n",
        "\n",
        "# Create an ensemble model using a VotingClassifier\n",
        "ensemble_model = VotingClassifier(estimators=[('model1', model1), ('model2', model2), ('model3', model3)], voting='hard')\n",
        "\n",
        "# Train the ensemble model\n",
        "ensemble_model.fit(x_train, y_train)\n",
        "\n",
        "performance(ensemble_model)\n"
      ],
      "metadata": {
        "colab": {
          "base_uri": "https://localhost:8080/"
        },
        "id": "5abN4cny21Be",
        "outputId": "24ec526e-700a-4085-c0d8-371a01ecfb43"
      },
      "id": "5abN4cny21Be",
      "execution_count": null,
      "outputs": [
        {
          "output_type": "stream",
          "name": "stdout",
          "text": [
            "Confusion Matrix:\n",
            "[[52 13]\n",
            " [ 7 58]]\n",
            "Accuracy: 0.8461538461538461\n",
            "Precision: 0.8169014084507042\n",
            "Recall: 0.8923076923076924\n",
            "F1 Score: 0.8529411764705882\n"
          ]
        }
      ]
    },
    {
      "cell_type": "code",
      "source": [
        "\n",
        "# Create individual models\n",
        "model1 = LR\n",
        "model2 = SVC_\n",
        "model3 = best_model\n",
        "\n",
        "# Create an ensemble model using a VotingClassifier\n",
        "ensemble_model = VotingClassifier(estimators=[('model1', model1), ('model2', model2), ('model3', model3)], voting='hard')\n",
        "\n",
        "# Train the ensemble model\n",
        "ensemble_model.fit(x_train, y_train)\n",
        "\n",
        "performance(ensemble_model)\n"
      ],
      "metadata": {
        "colab": {
          "base_uri": "https://localhost:8080/"
        },
        "id": "a5-6r5MEY4Ou",
        "outputId": "be2c5d43-792c-4a9f-c088-b2e3af59edac"
      },
      "id": "a5-6r5MEY4Ou",
      "execution_count": null,
      "outputs": [
        {
          "output_type": "stream",
          "name": "stdout",
          "text": [
            "Confusion Matrix:\n",
            "[[53 12]\n",
            " [10 55]]\n",
            "Accuracy: 0.8307692307692308\n",
            "Precision: 0.8208955223880597\n",
            "Recall: 0.8461538461538461\n",
            "F1 Score: 0.8333333333333334\n"
          ]
        }
      ]
    },
    {
      "cell_type": "code",
      "source": [],
      "metadata": {
        "id": "jxKJwSS6IFj0"
      },
      "id": "jxKJwSS6IFj0",
      "execution_count": null,
      "outputs": []
    }
  ],
  "metadata": {
    "kernelspec": {
      "display_name": "Python 3",
      "name": "python3"
    },
    "language_info": {
      "codemirror_mode": {
        "name": "ipython",
        "version": 3
      },
      "file_extension": ".py",
      "mimetype": "text/x-python",
      "name": "python",
      "nbconvert_exporter": "python",
      "pygments_lexer": "ipython3",
      "version": "3.9.12"
    },
    "colab": {
      "provenance": [],
      "gpuType": "T4",
      "machine_shape": "hm",
      "include_colab_link": true
    },
    "accelerator": "GPU"
  },
  "nbformat": 4,
  "nbformat_minor": 5
}